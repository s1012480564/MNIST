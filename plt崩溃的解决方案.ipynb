{
 "cells": [
  {
   "cell_type": "code",
   "execution_count": 1,
   "metadata": {
    "collapsed": true
   },
   "outputs": [
    {
     "name": "stdout",
     "output_type": "stream",
     "text": [
      "[1] cost: 1041.142\n",
      "[2] cost: 979.958\n",
      "[3] cost: 974.502\n",
      "[4] cost: 971.584\n",
      "[5] cost: 969.382\n",
      "Finished Training\n"
     ]
    }
   ],
   "source": [
    "import pandas as pd\n",
    "train_df=pd.read_csv('kaggle_data/train.csv')\n",
    "test_df=pd.read_csv('kaggle_data/test.csv')\n",
    "train_df\n",
    "train_df.shape,test_df.shape\n",
    "import numpy as np\n",
    "train_df=train_df.astype(np.float32)\n",
    "test_df=test_df.astype(np.float32)\n",
    "train_df_y=train_df.iloc[:,0]\n",
    "train_df_X=train_df.iloc[:,1:]\n",
    "train_df_X.shape,train_df_y.shape\n",
    "train_np_X=train_df_X.values\n",
    "test_np_X=test_df.values\n",
    "train_np_X=train_np_X.reshape([42000,1,28,28])\n",
    "test_np_X=test_np_X.reshape([28000,1,28,28])\n",
    "train_np_X.shape,test_np_X.shape\n",
    "train_np_X=(train_np_X/255-0.5)/0.5\n",
    "test_np_X=(test_np_X/255-0.5)/0.5\n",
    "train_np_X[0]\n",
    "train_df_y=pd.get_dummies(train_df_y)\n",
    "train_df_y=train_df_y.astype(np.float32)\n",
    "train_df_y\n",
    "train_np_y=train_df_y.values\n",
    "train_np_y.shape\n",
    "import torch\n",
    "train_X=torch.from_numpy(train_np_X)\n",
    "test_X=torch.from_numpy(test_np_X)\n",
    "train_y=torch.from_numpy(train_np_y)\n",
    "from torch.utils.data import TensorDataset\n",
    "train_set=TensorDataset(train_X,train_y)\n",
    "test_set=TensorDataset(test_X) # 可以打印一下，这个构造成的是第二个元素为空的 tuple\n",
    "from torch.utils.data import DataLoader\n",
    "train_loader=DataLoader(train_set,batch_size=64,shuffle=True)\n",
    "test_loader=DataLoader(test_set,batch_size=64,shuffle=True)\n",
    "import torch.nn as nn\n",
    "class CNN(nn.Module):\n",
    "    def __init__(self):\n",
    "        super(CNN,self).__init__()\n",
    "        self.conv1=nn.Conv2d(1,6,5,padding=2)\n",
    "        self.conv2=nn.Conv2d(6,16,5)\n",
    "        self.pool=nn.MaxPool2d(2,2)\n",
    "        self.fc1=nn.Linear(400,120)\n",
    "        self.fc2=nn.Linear(120,84)\n",
    "        self.out=nn.Linear(84,10)\n",
    "    def forward(self,x):\n",
    "        x=self.pool(torch.tanh(self.conv1(x)))\n",
    "        x=self.pool(torch.tanh(self.conv2(x)))\n",
    "        x=x.reshape(-1,self.num_flat_features(x))\n",
    "        x=torch.tanh(self.fc1(x))\n",
    "        x=torch.tanh(self.fc2(x))\n",
    "        x=torch.softmax(self.out(x),dim=-1)\n",
    "        return x\n",
    "    def num_flat_features(self, x):\n",
    "        size=x.size()[1:]\n",
    "        num_features=1\n",
    "        for s in size:\n",
    "            num_features*=s\n",
    "        return num_features\n",
    "cnn=CNN()\n",
    "cnn\n",
    "device=torch.device('cuda:0')\n",
    "cnn=cnn.to(device)\n",
    "import torch.optim as optim\n",
    "criterion=nn.CrossEntropyLoss()\n",
    "optimizer=optim.Adam(cnn.parameters())\n",
    "costs=[]\n",
    "for epoch in range(5):\n",
    "    cost=0.0\n",
    "    for i,train in enumerate(train_loader):\n",
    "        X_train,y_train=train\n",
    "        X_train=X_train.to(device)\n",
    "        y_train=y_train.to(device)\n",
    "        optimizer.zero_grad()\n",
    "        y_pred=cnn(X_train)\n",
    "        loss=criterion(y_pred,y_train)\n",
    "        loss.backward()\n",
    "        optimizer.step()\n",
    "        cost+=loss.item()\n",
    "    costs.append(cost)\n",
    "    print('[%d] cost: %.3f'%(epoch+1,cost))\n",
    "print('Finished Training')"
   ]
  },
  {
   "cell_type": "code",
   "execution_count": 2,
   "outputs": [
    {
     "data": {
      "text/plain": "<matplotlib.legend.Legend at 0x1d570fb9250>"
     },
     "execution_count": 2,
     "metadata": {},
     "output_type": "execute_result"
    },
    {
     "data": {
      "text/plain": "<Figure size 432x288 with 1 Axes>",
      "image/png": "[encoded data removed]"
     },
     "metadata": {
      "needs_background": "light"
     },
     "output_type": "display_data"
    }
   ],
   "source": [
    "import os\n",
    "os.environ[\"KMP_DUPLICATE_LIB_OK\"]=\"TRUE\"\n",
    "import matplotlib.pyplot as plt\n",
    "plt.figure('PyTorch_CNN_Cost')\n",
    "plt.plot(costs,label='Cost')\n",
    "plt.legend()"
   ],
   "metadata": {
    "collapsed": false,
    "pycharm": {
     "name": "#%%\n"
    }
   }
  },
  {
   "cell_type": "markdown",
   "source": [
    "import os\n",
    "os.environ[\"KMP_DUPLICATE_LIB_OK\"]=\"TRUE\"\n",
    "加入允许冗余就好了，plt它会阻塞，但是不给你报错，所以都看不出来是这个问题\n",
    "只能上网去查\n",
    "torch和conda之间冗余太多了，很烦人\n",
    "以后每次写东西一定记得第一句上来就开冗余\n",
    "另外 ipynb 里 show 是多余的 plot 就已经画出来了，而且 legend 啥后期添也是可以的，一个 cell 里就行  "
   ],
   "metadata": {
    "collapsed": false,
    "pycharm": {
     "name": "#%% md\n"
    }
   }
  }
 ],
 "metadata": {
  "kernelspec": {
   "display_name": "Python 3",
   "language": "python",
   "name": "python3"
  },
  "language_info": {
   "codemirror_mode": {
    "name": "ipython",
    "version": 2
   },
   "file_extension": ".py",
   "mimetype": "text/x-python",
   "name": "python",
   "nbconvert_exporter": "python",
   "pygments_lexer": "ipython2",
   "version": "2.7.6"
  }
 },
 "nbformat": 4,
 "nbformat_minor": 0
}