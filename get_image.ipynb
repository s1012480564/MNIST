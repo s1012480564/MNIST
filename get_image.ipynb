{
 "cells": [
  {
   "cell_type": "markdown",
   "metadata": {
    "collapsed": true,
    "pycharm": {
     "name": "#%% md\n"
    }
   },
   "source": [
    "# 把官方raw数据集的一部分转换回图片"
   ]
  },
  {
   "cell_type": "markdown",
   "source": [
    "pytorch 和 anaconda 的库中均有 libiomp5md.dll\n",
    "用到这个 dll 时会导致冗余报错\n",
    "一种方法是允许冗余\n",
    "另一种是直接找到删一个"
   ],
   "metadata": {
    "collapsed": false,
    "pycharm": {
     "name": "#%% md\n"
    }
   }
  },
  {
   "cell_type": "code",
   "execution_count": 1,
   "outputs": [],
   "source": [
    "import os\n",
    "os.environ[\"KMP_DUPLICATE_LIB_OK\"]='True' # 允许冗余"
   ],
   "metadata": {
    "collapsed": false,
    "pycharm": {
     "name": "#%%\n"
    }
   }
  },
  {
   "cell_type": "code",
   "execution_count": 2,
   "outputs": [],
   "source": [
    "from torchvision.datasets import mnist\n",
    "from skimage import io"
   ],
   "metadata": {
    "collapsed": false,
    "pycharm": {
     "name": "#%%\n"
    }
   }
  },
  {
   "cell_type": "markdown",
   "source": [
    "路径内无对应数据则会下载，保存在磁盘的是 raw\n",
    ".data .targes 可以看源码，返回的是_load_data()\n",
    "_load_data() 返回的就是参考代码的 read_image_file(),read_label_file()\n",
    "这个返回的是 raw 划分后并且转 tensor，和 transformer 参数无关\n",
    "其中，默认的是 transformer.toImage()，而非 transformer.toTensor()\n",
    "transformer 在 DataLoader 时才会起作用，而且 PIL.Image 类型传给 dataloader 无法正常使用，只能是 tensor\n",
    "toImage 后怎么读出不清楚，如果可以的话，那样就可以用可以用 PIL 来 save 图像了\n",
    "就不必用 skimage 做 ndarray 保存为 jpg\n",
    "其实还有其他许多展示方法，这是初学的我所最初了解的"
   ],
   "metadata": {
    "collapsed": false,
    "pycharm": {
     "name": "#%% md\n"
    }
   }
  },
  {
   "cell_type": "code",
   "execution_count": 3,
   "outputs": [],
   "source": [
    "train=mnist.MNIST('official_data',train=True)\n",
    "test=mnist.MNIST('official_data',train=False)"
   ],
   "metadata": {
    "collapsed": false,
    "pycharm": {
     "name": "#%%\n"
    }
   }
  },
  {
   "cell_type": "code",
   "execution_count": 4,
   "outputs": [
    {
     "data": {
      "text/plain": "tensor([[[0, 0, 0,  ..., 0, 0, 0],\n         [0, 0, 0,  ..., 0, 0, 0],\n         [0, 0, 0,  ..., 0, 0, 0],\n         ...,\n         [0, 0, 0,  ..., 0, 0, 0],\n         [0, 0, 0,  ..., 0, 0, 0],\n         [0, 0, 0,  ..., 0, 0, 0]],\n\n        [[0, 0, 0,  ..., 0, 0, 0],\n         [0, 0, 0,  ..., 0, 0, 0],\n         [0, 0, 0,  ..., 0, 0, 0],\n         ...,\n         [0, 0, 0,  ..., 0, 0, 0],\n         [0, 0, 0,  ..., 0, 0, 0],\n         [0, 0, 0,  ..., 0, 0, 0]],\n\n        [[0, 0, 0,  ..., 0, 0, 0],\n         [0, 0, 0,  ..., 0, 0, 0],\n         [0, 0, 0,  ..., 0, 0, 0],\n         ...,\n         [0, 0, 0,  ..., 0, 0, 0],\n         [0, 0, 0,  ..., 0, 0, 0],\n         [0, 0, 0,  ..., 0, 0, 0]],\n\n        ...,\n\n        [[0, 0, 0,  ..., 0, 0, 0],\n         [0, 0, 0,  ..., 0, 0, 0],\n         [0, 0, 0,  ..., 0, 0, 0],\n         ...,\n         [0, 0, 0,  ..., 0, 0, 0],\n         [0, 0, 0,  ..., 0, 0, 0],\n         [0, 0, 0,  ..., 0, 0, 0]],\n\n        [[0, 0, 0,  ..., 0, 0, 0],\n         [0, 0, 0,  ..., 0, 0, 0],\n         [0, 0, 0,  ..., 0, 0, 0],\n         ...,\n         [0, 0, 0,  ..., 0, 0, 0],\n         [0, 0, 0,  ..., 0, 0, 0],\n         [0, 0, 0,  ..., 0, 0, 0]],\n\n        [[0, 0, 0,  ..., 0, 0, 0],\n         [0, 0, 0,  ..., 0, 0, 0],\n         [0, 0, 0,  ..., 0, 0, 0],\n         ...,\n         [0, 0, 0,  ..., 0, 0, 0],\n         [0, 0, 0,  ..., 0, 0, 0],\n         [0, 0, 0,  ..., 0, 0, 0]]], dtype=torch.uint8)"
     },
     "execution_count": 4,
     "metadata": {},
     "output_type": "execute_result"
    }
   ],
   "source": [
    "X=train.data # old_usage: train.train_data\n",
    "X"
   ],
   "metadata": {
    "collapsed": false,
    "pycharm": {
     "name": "#%%\n"
    }
   }
  },
  {
   "cell_type": "code",
   "execution_count": 5,
   "outputs": [
    {
     "data": {
      "text/plain": "torch.Size([60000, 28, 28])"
     },
     "execution_count": 5,
     "metadata": {},
     "output_type": "execute_result"
    }
   ],
   "source": [
    "X.size()"
   ],
   "metadata": {
    "collapsed": false,
    "pycharm": {
     "name": "#%%\n"
    }
   }
  },
  {
   "cell_type": "code",
   "execution_count": 6,
   "outputs": [
    {
     "data": {
      "text/plain": "tensor([5, 0, 4,  ..., 5, 6, 8])"
     },
     "execution_count": 6,
     "metadata": {},
     "output_type": "execute_result"
    }
   ],
   "source": [
    "y=train.targets # old_usage: train.train_labels\n",
    "y"
   ],
   "metadata": {
    "collapsed": false,
    "pycharm": {
     "name": "#%%\n"
    }
   }
  },
  {
   "cell_type": "code",
   "execution_count": 7,
   "outputs": [],
   "source": [
    "for i in range(10):\n",
    "    io.imsave(\"images/\"+str(i)+'.jpg',X[i].numpy())"
   ],
   "metadata": {
    "collapsed": false,
    "pycharm": {
     "name": "#%%\n"
    }
   }
  },
  {
   "cell_type": "markdown",
   "source": [
    "参考代码：\n",
    "import os\n",
    "from skimage import io\n",
    "import torchvision.datasets.mnist as mnist\n",
    "\n",
    "root=\"D:/MNIST/data/MNIST/raw\"\n",
    "train_set=(\n",
    "    mnist.read_image_file(os.path.join(root, 'train-images-idx3-ubyte')),\n",
    "    mnist.read_label_file(os.path.join(root, 'train-labels-idx1-ubyte'))\n",
    ")\n",
    "test_set=(\n",
    "    mnist.read_image_file(os.path.join(root, 't10k-images-idx3-ubyte')),\n",
    "    mnist.read_label_file(os.path.join(root, 't10k-labels-idx1-ubyte'))\n",
    ")\n",
    "print(\"training set :\",train_set[0].size())\n",
    "print(\"test set :\",test_set[0].size())\n",
    "\n",
    "def convert_to_img(train=True):\n",
    "    if(train):\n",
    "        f=open(root+'train.txt','w')\n",
    "        data_path=root+'/train/'\n",
    "        if(not os.path.exists(data_path)):\n",
    "            os.makedirs(data_path)\n",
    "        for i, (img,label) in enumerate(zip(train_set[0],train_set[1])):\n",
    "            img_path=data_path+str(i)+'.jpg'\n",
    "            io.imsave(img_path,img.numpy())\n",
    "            f.write(img_path+' '+str(label)+'\\n')\n",
    "        f.close()\n",
    "    else:\n",
    "        f = open(root + 'test.txt', 'w')\n",
    "        data_path = root + '/test/'\n",
    "        if (not os.path.exists(data_path)):\n",
    "            os.makedirs(data_path)\n",
    "        for i, (img,label) in enumerate(zip(test_set[0],test_set[1])):\n",
    "            img_path = data_path+ str(i) + '.jpg'\n",
    "            io.imsave(img_path, img.numpy())\n",
    "            f.write(img_path + ' ' + str(label) + '\\n')\n",
    "        f.close()\n",
    "\n",
    "convert_to_img(True)#转换训练集\n",
    "convert_to_img(False)#转换测试集"
   ],
   "metadata": {
    "collapsed": false,
    "pycharm": {
     "name": "#%% md\n"
    }
   }
  }
 ],
 "metadata": {
  "kernelspec": {
   "display_name": "Python 3",
   "language": "python",
   "name": "python3"
  },
  "language_info": {
   "codemirror_mode": {
    "name": "ipython",
    "version": 2
   },
   "file_extension": ".py",
   "mimetype": "text/x-python",
   "name": "python",
   "nbconvert_exporter": "python",
   "pygments_lexer": "ipython2",
   "version": "2.7.6"
  }
 },
 "nbformat": 4,
 "nbformat_minor": 0
}